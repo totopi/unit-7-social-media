{
 "cells": [
  {
   "cell_type": "markdown",
   "metadata": {},
   "source": [
    "# News Mood\n",
    "In this assignment, you'll create a Python script to perform a sentiment analysis of the Twitter activity of various news oulets, and to present your findings visually.\n",
    "\n",
    "Your final output should provide a visualized summary of the sentiments expressed in Tweets sent out by the following news organizations: BBC, CBS, CNN, Fox, and New York times.\n",
    "    The first plot will be and/or feature the following:\n",
    "\n",
    "Be a scatter plot of sentiments of the last 100 tweets sent out by each news organization, ranging from -1.0 to 1.0, where a score of 0 expresses a neutral sentiment, -1 the most negative sentiment possible, and +1 the most positive sentiment possible.\n",
    "Each plot point will reflect the compound sentiment of a tweet.\n",
    "Sort each plot point by its relative timestamp.\n",
    "The second plot will be a bar plot visualizing the overall sentiments of the last 100 tweets from each organization. For this plot, you will again aggregate the compound sentiments analyzed by VADER.\n",
    "\n",
    "The tools of the trade you will need for your task as a data analyst include the following: tweepy, pandas, matplotlib, seaborn, textblob, and VADER.\n",
    "\n",
    "Your final Jupyter notebook must:\n",
    "\n",
    "Pull last 100 tweets from each outlet.\n",
    "Perform a sentiment analysis with the compound, positive, neutral, and negative scoring for each tweet.\n",
    "Pull into a DataFrame the tweet's source acount, its text, its date, and its compound, positive, neutral, and negative sentiment scores.\n",
    "Export the data in the DataFrame into a CSV file.\n",
    "Save PNG images for each plot.\n",
    "As final considerations:\n",
    "\n",
    "Use the Matplotlib and Seaborn libraries.\n",
    "Include a written description of three observable trends based on the data.\n",
    "Include proper labeling of your plots, including plot titles (with date of analysis) and axes labels.\n",
    "Include an exported markdown version of your Notebook called  README.md in your GitHub repository."
   ]
  },
  {
   "cell_type": "markdown",
   "metadata": {},
   "source": [
    "## Dependencies"
   ]
  },
  {
   "cell_type": "code",
   "execution_count": 37,
   "metadata": {
    "collapsed": true
   },
   "outputs": [],
   "source": [
    "import tweepy\n",
    "import datetime\n",
    "import pandas as pd\n",
    "import numpy as np\n",
    "import matplotlib.pyplot as plt\n",
    "from secrets import chirp\n",
    "from vaderSentiment.vaderSentiment import SentimentIntensityAnalyzer\n",
    "analyzer = SentimentIntensityAnalyzer()"
   ]
  },
  {
   "cell_type": "markdown",
   "metadata": {},
   "source": [
    "### Get Tweet Sentiments from BBC, CBS, CNN, Fox, NYT"
   ]
  },
  {
   "cell_type": "code",
   "execution_count": 27,
   "metadata": {},
   "outputs": [],
   "source": [
    "request_list = [\"@BBC\", \"@CBS\", \"@CNN\", \"@FoxNews\", \"@nytimes\"]\n",
    "sentiments = []\n",
    "\n",
    "for account in request_list:\n",
    "    for x in range(5):\n",
    "        public_tweets = chirp.user_timeline(account, page=x)\n",
    "        for tweet in public_tweets:\n",
    "            result = analyzer.polarity_scores(tweet[\"text\"])\n",
    "            sentiments.append({\n",
    "                \"Account\": tweet[\"user\"][\"name\"],\n",
    "                \"Compound\": result[\"compound\"],\n",
    "                \"Positive\": result[\"pos\"],\n",
    "                \"Neutral\": result[\"neu\"],\n",
    "                \"Negative\": result[\"neg\"]\n",
    "            })\n",
    "\n",
    "now = datetime.datetime.now()"
   ]
  },
  {
   "cell_type": "code",
   "execution_count": 35,
   "metadata": {},
   "outputs": [
    {
     "data": {
      "text/html": [
       "<div>\n",
       "<style>\n",
       "    .dataframe thead tr:only-child th {\n",
       "        text-align: right;\n",
       "    }\n",
       "\n",
       "    .dataframe thead th {\n",
       "        text-align: left;\n",
       "    }\n",
       "\n",
       "    .dataframe tbody tr th {\n",
       "        vertical-align: top;\n",
       "    }\n",
       "</style>\n",
       "<table border=\"1\" class=\"dataframe\">\n",
       "  <thead>\n",
       "    <tr style=\"text-align: right;\">\n",
       "      <th></th>\n",
       "      <th>Account</th>\n",
       "      <th>Compound</th>\n",
       "      <th>Negative</th>\n",
       "      <th>Neutral</th>\n",
       "      <th>Positive</th>\n",
       "    </tr>\n",
       "  </thead>\n",
       "  <tbody>\n",
       "    <tr>\n",
       "      <th>0</th>\n",
       "      <td>BBC</td>\n",
       "      <td>0.0</td>\n",
       "      <td>0.0</td>\n",
       "      <td>1.0</td>\n",
       "      <td>0.0</td>\n",
       "    </tr>\n",
       "  </tbody>\n",
       "</table>\n",
       "</div>"
      ],
      "text/plain": [
       "  Account  Compound  Negative  Neutral  Positive\n",
       "0     BBC       0.0       0.0      1.0       0.0"
      ]
     },
     "execution_count": 35,
     "metadata": {},
     "output_type": "execute_result"
    }
   ],
   "source": [
    "sentiment_df = pd.DataFrame(sentiments)\n",
    "BBC_df = sentiment_df[sentiment_df[\"Account\"] == \"BBC\"]\n",
    "CBS_df = sentiment_df[sentiment_df[\"Account\"] == \"CBS\"]\n",
    "CNN_df = sentiment_df[sentiment_df[\"Account\"] == \"CNN\"]\n",
    "FOX_df = sentiment_df[sentiment_df[\"Account\"] == \"Fox News\"]\n",
    "NYT_df = sentiment_df[sentiment_df[\"Account\"] == \"The New York Times\"]\n",
    "sentiment_df.head(1)"
   ]
  },
  {
   "cell_type": "markdown",
   "metadata": {},
   "source": [
    "### Plot the sentiments as a scatter plot"
   ]
  },
  {
   "cell_type": "code",
   "execution_count": 53,
   "metadata": {},
   "outputs": [
    {
     "data": {
      "image/png": "[encoded data removed]",
      "text/plain": [
       "<matplotlib.figure.Figure at 0x1ea339fdf98>"
      ]
     },
     "metadata": {},
     "output_type": "display_data"
    }
   ],
   "source": [
    "x_axis = np.arange(99, -1, -1)\n",
    "plt.scatter(x_axis, BBC_df[\"Compound\"], color=\"lightblue\", edgecolor = \"black\", marker=\"o\", label=\"BBC\")\n",
    "plt.scatter(x_axis, CBS_df[\"Compound\"], color=\"green\", edgecolor = \"black\", marker=\"o\", label=\"CBS\")\n",
    "plt.scatter(x_axis, CNN_df[\"Compound\"], color=\"red\", edgecolor = \"black\", marker=\"o\", label=\"CNN\")\n",
    "plt.scatter(x_axis, FOX_df[\"Compound\"], color=\"blue\", edgecolor = \"black\", marker=\"o\", label=\"Fox News\")\n",
    "plt.scatter(x_axis, NYT_df[\"Compound\"], color=\"yellow\", edgecolor = \"black\", marker=\"o\", label=\"New York Times\")\n",
    "\n",
    "plt.xlabel(\"Tweets Ago\")\n",
    "plt.ylabel(\"Tweet Polarity\")\n",
    "plt.legend(loc=\"best\")\n",
    "plt.grid(True)\n",
    "plt.xlim(-5, 105)\n",
    "plt.ylim(-1, 1)\n",
    "\n",
    "plt.show()"
   ]
  },
  {
   "cell_type": "markdown",
   "metadata": {},
   "source": [
    "### Plot the sentiments as a bar chart"
   ]
  },
  {
   "cell_type": "code",
   "execution_count": 59,
   "metadata": {},
   "outputs": [],
   "source": [
    "color_list = [\"lightblue\", \"green\", \"red\", \"blue\", \"yellow\"]\n",
    "sentiment_dict = {\n",
    "    \"BBC\": BBC_df[\"Compound\"].mean(),\n",
    "    \"CBS\": CBS_df[\"Compound\"].mean(),\n",
    "    \"CNN\": CNN_df[\"Compound\"].mean(),\n",
    "    \"Fox\": FOX_df[\"Compound\"].mean(),\n",
    "    \"NYT\": NYT_df[\"Compound\"].mean()\n",
    "}\n",
    "x_axis = range(len(sentiment_dict))"
   ]
  },
  {
   "cell_type": "code",
   "execution_count": 60,
   "metadata": {},
   "outputs": [
    {
     "data": {
      "image/png": "[encoded data removed]",
      "text/plain": [
       "<matplotlib.figure.Figure at 0x1ea33a9b390>"
      ]
     },
     "metadata": {},
     "output_type": "display_data"
    }
   ],
   "source": [
    "plt.bar(x_axis, sentiment_dict.values())\n",
    "plt.show()"
   ]
  },
  {
   "cell_type": "code",
   "execution_count": null,
   "metadata": {
    "collapsed": true
   },
   "outputs": [],
   "source": []
  }
 ],
 "metadata": {
  "kernelspec": {
   "display_name": "Python [conda env:PythonData]",
   "language": "python",
   "name": "conda-env-PythonData-py"
  },
  "language_info": {
   "codemirror_mode": {
    "name": "ipython",
    "version": 3
   },
   "file_extension": ".py",
   "mimetype": "text/x-python",
   "name": "python",
   "nbconvert_exporter": "python",
   "pygments_lexer": "ipython3",
   "version": "3.6.3"
  }
 },
 "nbformat": 4,
 "nbformat_minor": 2
}
